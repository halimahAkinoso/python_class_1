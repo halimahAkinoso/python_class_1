{
 "cells": [
  {
   "cell_type": "markdown",
   "id": "958bb18a",
   "metadata": {},
   "source": [
    "print(\"hello friend am learning python\")"
   ]
  },
  {
   "cell_type": "code",
   "execution_count": null,
   "id": "0aa40c28",
   "metadata": {
    "vscode": {
     "languageId": "plaintext"
    }
   },
   "outputs": [],
   "source": [
    "print (\"hello friend\")"
   ]
  }
 ],
 "metadata": {
  "language_info": {
   "name": "python"
  }
 },
 "nbformat": 4,
 "nbformat_minor": 5
}
